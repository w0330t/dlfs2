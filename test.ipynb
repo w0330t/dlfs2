{
 "cells": [
  {
   "cell_type": "code",
   "execution_count": 1,
   "metadata": {},
   "outputs": [],
   "source": [
    "import numpy as np\n",
    "import torch\n",
    "import torch.nn as nn\n",
    "from torch.nn.parameter import Parameter\n",
    "import pickle\n",
    "import re\n",
    "\n",
    "from common.util import preprocess"
   ]
  },
  {
   "cell_type": "code",
   "execution_count": 2,
   "metadata": {},
   "outputs": [],
   "source": [
    "text = 'You say goodbye and I say hello.'\n",
    "c, w, i = preprocess(text)"
   ]
  },
  {
   "cell_type": "code",
   "execution_count": 3,
   "metadata": {},
   "outputs": [],
   "source": [
    "def create_co_matrix(corpus, vocab_size, window_size=1):\n",
    "    '''生成共现矩阵\n",
    "\n",
    "    :param corpus: 语料库（单词ID列表）\n",
    "    :param vocab_size:词汇个数\n",
    "    :param window_size:窗口大小（当窗口大小为1时，左右各1个单词为上下文）\n",
    "    :return: 共现矩阵\n",
    "    '''\n",
    "    corpus_size = len(corpus)\n",
    "    co_matrix = torch.zeros((vocab_size, vocab_size))\n",
    "\n",
    "    for idx, word_id in enumerate(corpus):\n",
    "        for i in range(1, window_size + 1):\n",
    "            left_idx = idx - i\n",
    "            right_idx = idx + i\n",
    "\n",
    "            if left_idx >= 0:\n",
    "                left_word_id = corpus[left_idx]\n",
    "                co_matrix[word_id, left_word_id] += 1\n",
    "\n",
    "            if right_idx < corpus_size:\n",
    "                right_word_id = corpus[right_idx]\n",
    "                co_matrix[word_id, right_word_id] += 1\n",
    "\n",
    "    return co_matrix"
   ]
  },
  {
   "cell_type": "code",
   "execution_count": 4,
   "metadata": {},
   "outputs": [
    {
     "ename": "TypeError",
     "evalue": "zeros() received an invalid combination of arguments - got (tuple, dtype=type), but expected one of:\n * (tuple of ints size, *, tuple of names names, torch.dtype dtype, torch.layout layout, torch.device device, bool pin_memory, bool requires_grad)\n * (tuple of SymInts size, *, Tensor out, torch.dtype dtype, torch.layout layout, torch.device device, bool pin_memory, bool requires_grad)\n",
     "output_type": "error",
     "traceback": [
      "\u001b[1;31m---------------------------------------------------------------------------\u001b[0m",
      "\u001b[1;31mTypeError\u001b[0m                                 Traceback (most recent call last)",
      "Cell \u001b[1;32mIn[4], line 1\u001b[0m\n\u001b[1;32m----> 1\u001b[0m create_co_matrix(c, \u001b[39m7\u001b[39;49m)\n",
      "Cell \u001b[1;32mIn[3], line 10\u001b[0m, in \u001b[0;36mcreate_co_matrix\u001b[1;34m(corpus, vocab_size, window_size)\u001b[0m\n\u001b[0;32m      2\u001b[0m \u001b[39m'''生成共现矩阵\u001b[39;00m\n\u001b[0;32m      3\u001b[0m \n\u001b[0;32m      4\u001b[0m \u001b[39m:param corpus: 语料库（单词ID列表）\u001b[39;00m\n\u001b[1;32m   (...)\u001b[0m\n\u001b[0;32m      7\u001b[0m \u001b[39m:return: 共现矩阵\u001b[39;00m\n\u001b[0;32m      8\u001b[0m \u001b[39m'''\u001b[39;00m\n\u001b[0;32m      9\u001b[0m corpus_size \u001b[39m=\u001b[39m \u001b[39mlen\u001b[39m(corpus)\n\u001b[1;32m---> 10\u001b[0m co_matrix \u001b[39m=\u001b[39m torch\u001b[39m.\u001b[39;49mzeros((vocab_size, vocab_size), dtype\u001b[39m=\u001b[39;49mnp\u001b[39m.\u001b[39;49mint32)\n\u001b[0;32m     12\u001b[0m \u001b[39mfor\u001b[39;00m idx, word_id \u001b[39min\u001b[39;00m \u001b[39menumerate\u001b[39m(corpus):\n\u001b[0;32m     13\u001b[0m     \u001b[39mfor\u001b[39;00m i \u001b[39min\u001b[39;00m \u001b[39mrange\u001b[39m(\u001b[39m1\u001b[39m, window_size \u001b[39m+\u001b[39m \u001b[39m1\u001b[39m):\n",
      "\u001b[1;31mTypeError\u001b[0m: zeros() received an invalid combination of arguments - got (tuple, dtype=type), but expected one of:\n * (tuple of ints size, *, tuple of names names, torch.dtype dtype, torch.layout layout, torch.device device, bool pin_memory, bool requires_grad)\n * (tuple of SymInts size, *, Tensor out, torch.dtype dtype, torch.layout layout, torch.device device, bool pin_memory, bool requires_grad)\n"
     ]
    }
   ],
   "source": [
    "create_co_matrix(c, 7)\n"
   ]
  },
  {
   "cell_type": "code",
   "execution_count": null,
   "metadata": {},
   "outputs": [],
   "source": []
  },
  {
   "cell_type": "code",
   "execution_count": null,
   "metadata": {},
   "outputs": [
    {
     "data": {
      "text/plain": [
       "'you'"
      ]
     },
     "execution_count": 5,
     "metadata": {},
     "output_type": "execute_result"
    }
   ],
   "source": [
    "i[0]"
   ]
  },
  {
   "cell_type": "code",
   "execution_count": null,
   "metadata": {},
   "outputs": [],
   "source": []
  }
 ],
 "metadata": {
  "kernelspec": {
   "display_name": "dl",
   "language": "python",
   "name": "python3"
  },
  "language_info": {
   "codemirror_mode": {
    "name": "ipython",
    "version": 3
   },
   "file_extension": ".py",
   "mimetype": "text/x-python",
   "name": "python",
   "nbconvert_exporter": "python",
   "pygments_lexer": "ipython3",
   "version": "3.10.8"
  },
  "orig_nbformat": 4,
  "vscode": {
   "interpreter": {
    "hash": "3712396588e2ebd809439df4a449bfc974081027df7accf4c030d44c834bbac4"
   }
  }
 },
 "nbformat": 4,
 "nbformat_minor": 2
}
